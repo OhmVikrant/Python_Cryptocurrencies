{
 "cells": [
  {
   "cell_type": "code",
   "execution_count": 3,
   "metadata": {},
   "outputs": [
    {
     "name": "stdout",
     "output_type": "stream",
     "text": [
      "{\n",
      "    \"attention\": \"WARNING: This API is now deprecated and will be taken offline soon.  Please switch to the new CoinMarketCap API to avoid interruptions in service. (https://pro.coinmarketcap.com/migrate/)\",\n",
      "    \"data\": {\n",
      "        \"active_cryptocurrencies\": 2315,\n",
      "        \"active_markets\": 19869,\n",
      "        \"bitcoin_percentage_of_market_cap\": 67.35,\n",
      "        \"last_updated\": 1565790392,\n",
      "        \"quotes\": {\n",
      "            \"JPY\": {\n",
      "                \"total_market_cap\": 29852397412939.0,\n",
      "                \"total_volume_24h\": 6046999204544.0\n",
      "            },\n",
      "            \"USD\": {\n",
      "                \"total_market_cap\": 281759296016.0,\n",
      "                \"total_volume_24h\": 57074084045.0\n",
      "            }\n",
      "        }\n",
      "    },\n",
      "    \"metadata\": {\n",
      "        \"error\": null,\n",
      "        \"timestamp\": 1565790082,\n",
      "        \"warning\": \"WARNING: This API is now deprecated and will be taken offline soon.  Please switch to the new CoinMarketCap API to avoid interruptions in service. (https://pro.coinmarketcap.com/migrate/)\"\n",
      "    }\n",
      "}\n"
     ]
    }
   ],
   "source": [
    "import json\n",
    "import requests\n",
    "from datetime import datetime\n",
    "\n",
    "currency = 'JPY'\n",
    "\n",
    "global_url = 'https://api.coinmarketcap.com/v2/global/?convert=' + currency\n",
    "\n",
    "request = requests.get(global_url)\n",
    "results = request.json()\n",
    "\n",
    "print(json.dumps(results, sort_keys=True, indent=4))"
   ]
  },
  {
   "cell_type": "code",
   "execution_count": 4,
   "metadata": {},
   "outputs": [
    {
     "name": "stdout",
     "output_type": "stream",
     "text": [
      "\n",
      "There are currently 2,315 active cryptocurrecies and 19,869 active markets.\n",
      "The global cap of all cryptos is 29,852,397,412,939 and the 24h global volume is 6,046,999,204,544.\n",
      "Bitcoin's total percentage of the global cap is 67.35%.\n",
      "\n",
      "This information was last updated on August 14, 2019 at 07:16PM.\n"
     ]
    }
   ],
   "source": [
    "active_currencies = results['data']['active_cryptocurrencies']\n",
    "active_markets = results['data']['active_markets']\n",
    "bitcoin_percentage = results['data']['bitcoin_percentage_of_market_cap']\n",
    "last_updated = results['data']['last_updated']\n",
    "global_cap = int(results['data']['quotes'][currency]['total_market_cap'])\n",
    "global_volume = int(results['data']['quotes'][currency]['total_volume_24h'])\n",
    "\n",
    "active_currencies_string = '{:,}'.format(active_currencies)\n",
    "active_markets_string = '{:,}'.format(active_markets)\n",
    "global_cap_string = '{:,}'.format(global_cap)\n",
    "global_volume_string = '{:,}'.format(global_volume)\n",
    "\n",
    "last_updated_string = datetime.fromtimestamp(last_updated).strftime('%B %d, %Y at %I:%M%p')\n",
    "\n",
    "print()\n",
    "print('There are currently ' + active_currencies_string + ' active cryptocurrecies and ' + active_markets_string + ' active markets.')\n",
    "print('The global cap of all cryptos is ' + global_cap_string + ' and the 24h global volume is ' + global_volume_string + '.')\n",
    "print('Bitcoin\\'s total percentage of the global cap is ' + str(bitcoin_percentage) + '%.')\n",
    "print()\n",
    "print('This information was last updated on ' + last_updated_string + '.')"
   ]
  }
 ],
 "metadata": {
  "kernelspec": {
   "display_name": "Python 3",
   "language": "python",
   "name": "python3"
  },
  "language_info": {
   "codemirror_mode": {
    "name": "ipython",
    "version": 3
   },
   "file_extension": ".py",
   "mimetype": "text/x-python",
   "name": "python",
   "nbconvert_exporter": "python",
   "pygments_lexer": "ipython3",
   "version": "3.7.3"
  }
 },
 "nbformat": 4,
 "nbformat_minor": 2
}
